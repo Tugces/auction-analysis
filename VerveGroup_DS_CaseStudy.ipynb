{
 "cells": [
  {
   "cell_type": "markdown",
   "id": "a5a06b7b",
   "metadata": {},
   "source": [
    "#### Import Libraries"
   ]
  },
  {
   "cell_type": "code",
   "execution_count": 1,
   "id": "cb147bfd",
   "metadata": {},
   "outputs": [],
   "source": [
    "import pandas as pd\n",
    "import numpy as np\n",
    "import matplotlib.pyplot as plt\n",
    "\n",
    "import warnings\n",
    "warnings.filterwarnings('ignore')"
   ]
  },
  {
   "cell_type": "markdown",
   "id": "73e0c3d3",
   "metadata": {},
   "source": [
    "#### Import Data"
   ]
  },
  {
   "cell_type": "code",
   "execution_count": 2,
   "id": "07758e33",
   "metadata": {},
   "outputs": [
    {
     "name": "stdout",
     "output_type": "stream",
     "text": [
      "Data Sizes:  (20, 4)\n",
      "<class 'pandas.core.frame.DataFrame'>\n",
      "RangeIndex: 20 entries, 0 to 19\n",
      "Data columns (total 4 columns):\n",
      " #   Column     Non-Null Count  Dtype  \n",
      "---  ------     --------------  -----  \n",
      " 0   app        20 non-null     object \n",
      " 1   bid_price  20 non-null     float64\n",
      " 2   win        20 non-null     int64  \n",
      " 3   events     20 non-null     int64  \n",
      "dtypes: float64(1), int64(2), object(1)\n",
      "memory usage: 768.0+ bytes\n",
      "None\n"
     ]
    }
   ],
   "source": [
    "df = (pd\n",
    "      .DataFrame([\n",
    "                    {\"app\": \"A\", \"bid_price\": 0.01, \"win\": 0, \"events\": 100000}, \n",
    "                    {\"app\": \"A\", \"bid_price\": 0.01, \"win\": 1, \"events\": 0}, \n",
    "                    {\"app\": \"A\", \"bid_price\": 0.1, \"win\": 0, \"events\": 7000}, \n",
    "                    {\"app\": \"A\", \"bid_price\": 0.1, \"win\": 1, \"events\": 3000}, \n",
    "                    {\"app\": \"A\", \"bid_price\": 0.2, \"win\": 0, \"events\": 8000000}, \n",
    "                    {\"app\": \"A\", \"bid_price\": 0.2, \"win\": 1, \"events\": 2000000}, \n",
    "                    {\"app\": \"A\", \"bid_price\": 0.4, \"win\": 0, \"events\": 700000}, \n",
    "                    {\"app\": \"A\", \"bid_price\": 0.4, \"win\": 1, \"events\": 300000}, \n",
    "                    {\"app\": \"A\", \"bid_price\": 0.5, \"win\": 0, \"events\": 80000}, \n",
    "                    {\"app\": \"A\", \"bid_price\": 0.5, \"win\": 1, \"events\": 20000}, \n",
    "                    {\"app\": \"A\", \"bid_price\": 0.75, \"win\": 0, \"events\": 7000}, \n",
    "                    {\"app\": \"A\", \"bid_price\": 0.75, \"win\": 1, \"events\": 3000}, \n",
    "                    {\"app\": \"A\", \"bid_price\": 1, \"win\": 0, \"events\": 400}, \n",
    "                    {\"app\": \"A\", \"bid_price\": 1, \"win\": 1, \"events\": 600}, \n",
    "                    {\"app\": \"A\", \"bid_price\": 2, \"win\": 0, \"events\": 30}, \n",
    "                    {\"app\": \"A\", \"bid_price\": 2, \"win\": 1, \"events\": 70}, \n",
    "                    {\"app\": \"A\", \"bid_price\": 5, \"win\": 0, \"events\": 2}, \n",
    "                    {\"app\": \"A\", \"bid_price\": 5, \"win\": 1, \"events\": 8}, \n",
    "                    {\"app\": \"A\", \"bid_price\": 9, \"win\": 0, \"events\": 0}, \n",
    "                    {\"app\": \"A\", \"bid_price\": 9, \"win\": 1, \"events\": 1}\n",
    "                ])\n",
    "       )\n",
    "\n",
    "print('Data Sizes: ', df.shape)\n",
    "print(df.info())"
   ]
  },
  {
   "cell_type": "markdown",
   "id": "a924a0b4",
   "metadata": {},
   "source": [
    "The data doesn't include null values and data types seem correct."
   ]
  },
  {
   "cell_type": "markdown",
   "id": "a0530b2b",
   "metadata": {},
   "source": [
    "#### Data Analysis"
   ]
  },
  {
   "cell_type": "code",
   "execution_count": 3,
   "id": "fc1d1ecc",
   "metadata": {},
   "outputs": [
    {
     "data": {
      "text/html": [
       "<div>\n",
       "<style scoped>\n",
       "    .dataframe tbody tr th:only-of-type {\n",
       "        vertical-align: middle;\n",
       "    }\n",
       "\n",
       "    .dataframe tbody tr th {\n",
       "        vertical-align: top;\n",
       "    }\n",
       "\n",
       "    .dataframe thead th {\n",
       "        text-align: right;\n",
       "    }\n",
       "</style>\n",
       "<table border=\"1\" class=\"dataframe\">\n",
       "  <thead>\n",
       "    <tr style=\"text-align: right;\">\n",
       "      <th></th>\n",
       "      <th>bid_price</th>\n",
       "      <th>win</th>\n",
       "      <th>events</th>\n",
       "    </tr>\n",
       "  </thead>\n",
       "  <tbody>\n",
       "    <tr>\n",
       "      <th>count</th>\n",
       "      <td>20.000000</td>\n",
       "      <td>20.000000</td>\n",
       "      <td>2.000000e+01</td>\n",
       "    </tr>\n",
       "    <tr>\n",
       "      <th>mean</th>\n",
       "      <td>1.896000</td>\n",
       "      <td>0.500000</td>\n",
       "      <td>5.610556e+05</td>\n",
       "    </tr>\n",
       "    <tr>\n",
       "      <th>std</th>\n",
       "      <td>2.829812</td>\n",
       "      <td>0.512989</td>\n",
       "      <td>1.810805e+06</td>\n",
       "    </tr>\n",
       "    <tr>\n",
       "      <th>min</th>\n",
       "      <td>0.010000</td>\n",
       "      <td>0.000000</td>\n",
       "      <td>0.000000e+00</td>\n",
       "    </tr>\n",
       "    <tr>\n",
       "      <th>25%</th>\n",
       "      <td>0.200000</td>\n",
       "      <td>0.000000</td>\n",
       "      <td>2.450000e+01</td>\n",
       "    </tr>\n",
       "    <tr>\n",
       "      <th>50%</th>\n",
       "      <td>0.625000</td>\n",
       "      <td>0.500000</td>\n",
       "      <td>3.000000e+03</td>\n",
       "    </tr>\n",
       "    <tr>\n",
       "      <th>75%</th>\n",
       "      <td>2.000000</td>\n",
       "      <td>1.000000</td>\n",
       "      <td>8.500000e+04</td>\n",
       "    </tr>\n",
       "    <tr>\n",
       "      <th>max</th>\n",
       "      <td>9.000000</td>\n",
       "      <td>1.000000</td>\n",
       "      <td>8.000000e+06</td>\n",
       "    </tr>\n",
       "  </tbody>\n",
       "</table>\n",
       "</div>"
      ],
      "text/plain": [
       "       bid_price        win        events\n",
       "count  20.000000  20.000000  2.000000e+01\n",
       "mean    1.896000   0.500000  5.610556e+05\n",
       "std     2.829812   0.512989  1.810805e+06\n",
       "min     0.010000   0.000000  0.000000e+00\n",
       "25%     0.200000   0.000000  2.450000e+01\n",
       "50%     0.625000   0.500000  3.000000e+03\n",
       "75%     2.000000   1.000000  8.500000e+04\n",
       "max     9.000000   1.000000  8.000000e+06"
      ]
     },
     "execution_count": 3,
     "metadata": {},
     "output_type": "execute_result"
    }
   ],
   "source": [
    "df.describe()"
   ]
  },
  {
   "cell_type": "markdown",
   "id": "13cd0b74",
   "metadata": {},
   "source": [
    "- There is only one app which is A.\n",
    "- The 'bid_price' column has 10 different pricess which are more than 0.\n",
    "- The maximum event is 8000000 which belongs to 0.2 in bid_price."
   ]
  },
  {
   "cell_type": "markdown",
   "id": "3ebd4e61",
   "metadata": {},
   "source": [
    "#### Problem-1"
   ]
  },
  {
   "cell_type": "markdown",
   "id": "b942974c",
   "metadata": {},
   "source": [
    "In the first problem, the win_rate is calculated according to the 'app' and the 'bid_price'.\n",
    "\n",
    "The formula is: \n",
    "\n",
    "$$\n",
    "\\ winRate = \\frac {nofSuccessfullEvents} {nofTotalEvents}\n",
    "$$"
   ]
  },
  {
   "cell_type": "code",
   "execution_count": 4,
   "id": "d519b1db",
   "metadata": {},
   "outputs": [],
   "source": [
    "def calculateWinRate(data):\n",
    "    \"\"\"\n",
    "    This function is created to calculate the win rate accoording to the 'app' and the 'bid_price'\n",
    "    \"\"\"\n",
    "    dataWinRate = (pd\n",
    "                   .DataFrame(data[data['win'] == 1]\n",
    "                              .groupby(['app', 'bid_price'])['events']\n",
    "                              .sum() / \n",
    "                              data\n",
    "                              .groupby(['app', 'bid_price'])['events']\n",
    "                              .sum()\n",
    "                             ).reset_index()\n",
    "                              .rename(columns = {'events': 'win_rate'})\n",
    "                   \n",
    "                  )\n",
    "    return dataWinRate"
   ]
  },
  {
   "cell_type": "code",
   "execution_count": 5,
   "id": "391f71f6",
   "metadata": {},
   "outputs": [
    {
     "data": {
      "text/html": [
       "<div>\n",
       "<style scoped>\n",
       "    .dataframe tbody tr th:only-of-type {\n",
       "        vertical-align: middle;\n",
       "    }\n",
       "\n",
       "    .dataframe tbody tr th {\n",
       "        vertical-align: top;\n",
       "    }\n",
       "\n",
       "    .dataframe thead th {\n",
       "        text-align: right;\n",
       "    }\n",
       "</style>\n",
       "<table border=\"1\" class=\"dataframe\">\n",
       "  <thead>\n",
       "    <tr style=\"text-align: right;\">\n",
       "      <th></th>\n",
       "      <th>app</th>\n",
       "      <th>bid_price</th>\n",
       "      <th>win_rate</th>\n",
       "    </tr>\n",
       "  </thead>\n",
       "  <tbody>\n",
       "    <tr>\n",
       "      <th>0</th>\n",
       "      <td>A</td>\n",
       "      <td>0.01</td>\n",
       "      <td>0.0</td>\n",
       "    </tr>\n",
       "    <tr>\n",
       "      <th>1</th>\n",
       "      <td>A</td>\n",
       "      <td>0.10</td>\n",
       "      <td>0.3</td>\n",
       "    </tr>\n",
       "    <tr>\n",
       "      <th>2</th>\n",
       "      <td>A</td>\n",
       "      <td>0.20</td>\n",
       "      <td>0.2</td>\n",
       "    </tr>\n",
       "    <tr>\n",
       "      <th>3</th>\n",
       "      <td>A</td>\n",
       "      <td>0.40</td>\n",
       "      <td>0.3</td>\n",
       "    </tr>\n",
       "    <tr>\n",
       "      <th>4</th>\n",
       "      <td>A</td>\n",
       "      <td>0.50</td>\n",
       "      <td>0.2</td>\n",
       "    </tr>\n",
       "    <tr>\n",
       "      <th>5</th>\n",
       "      <td>A</td>\n",
       "      <td>0.75</td>\n",
       "      <td>0.3</td>\n",
       "    </tr>\n",
       "    <tr>\n",
       "      <th>6</th>\n",
       "      <td>A</td>\n",
       "      <td>1.00</td>\n",
       "      <td>0.6</td>\n",
       "    </tr>\n",
       "    <tr>\n",
       "      <th>7</th>\n",
       "      <td>A</td>\n",
       "      <td>2.00</td>\n",
       "      <td>0.7</td>\n",
       "    </tr>\n",
       "    <tr>\n",
       "      <th>8</th>\n",
       "      <td>A</td>\n",
       "      <td>5.00</td>\n",
       "      <td>0.8</td>\n",
       "    </tr>\n",
       "    <tr>\n",
       "      <th>9</th>\n",
       "      <td>A</td>\n",
       "      <td>9.00</td>\n",
       "      <td>1.0</td>\n",
       "    </tr>\n",
       "  </tbody>\n",
       "</table>\n",
       "</div>"
      ],
      "text/plain": [
       "  app  bid_price  win_rate\n",
       "0   A       0.01       0.0\n",
       "1   A       0.10       0.3\n",
       "2   A       0.20       0.2\n",
       "3   A       0.40       0.3\n",
       "4   A       0.50       0.2\n",
       "5   A       0.75       0.3\n",
       "6   A       1.00       0.6\n",
       "7   A       2.00       0.7\n",
       "8   A       5.00       0.8\n",
       "9   A       9.00       1.0"
      ]
     },
     "execution_count": 5,
     "metadata": {},
     "output_type": "execute_result"
    }
   ],
   "source": [
    "# run the plotPricalculateWinRateceRate function to calculate the win rate\n",
    "dfWinRate = calculateWinRate(df)\n",
    "dfWinRate"
   ]
  },
  {
   "cell_type": "code",
   "execution_count": 6,
   "id": "73fc0678",
   "metadata": {},
   "outputs": [],
   "source": [
    "def plotPriceRate(data):\n",
    "    \"\"\"\n",
    "    This function is created to plot the win rate the bid_price graph to see the relation\n",
    "    \"\"\"\n",
    "    plt.figure(figsize = (25,7))\n",
    "    plt.plot(data.bid_price, data.win_rate, color = 'purple', linewidth=4, marker = 'o', markersize = 10, markerfacecolor ='yellow')\n",
    "    plt.xlabel(\"Bid Price\", fontsize=18)\n",
    "    plt.ylabel(\"Win Rate\", fontsize=18)\n",
    "    plt.xticks(np.append(np.arange(0,1,0.1),  np.arange(1,10)), fontsize=17, rotation=90)\n",
    "    plt.yticks(fontsize=17)\n",
    "    plt.title(\"The Bid Price and The Win Rate\", fontsize=20)"
   ]
  },
  {
   "cell_type": "code",
   "execution_count": 7,
   "id": "d831ec39",
   "metadata": {},
   "outputs": [
    {
     "data": {
      "image/png": "[encoded data removed]",
      "text/plain": [
       "<Figure size 1800x504 with 1 Axes>"
      ]
     },
     "metadata": {
      "needs_background": "light"
     },
     "output_type": "display_data"
    }
   ],
   "source": [
    "# run the plotPriceRate function to plot the relation\n",
    "plotPriceRate(data = dfWinRate)"
   ]
  },
  {
   "cell_type": "markdown",
   "id": "387e127e",
   "metadata": {},
   "source": [
    "#### Problem-2"
   ]
  },
  {
   "cell_type": "markdown",
   "id": "f4f2d3e2",
   "metadata": {},
   "source": [
    "In the second problem, the revenue is calculated according to the below formula:\n",
    "\n",
    "\n",
    "$$\n",
    "\\ revenue = (revenuePerWin - bidPrice) * \\frac {eventForWin1} {totalEvent} * totalEvent\n",
    "$$"
   ]
  },
  {
   "cell_type": "code",
   "execution_count": 8,
   "id": "548aca7d",
   "metadata": {},
   "outputs": [],
   "source": [
    "def calculateRevenue(data, revenuePerWin = 0.5):\n",
    "    \"\"\"\n",
    "    This function is created to calculate revenue column based on the given information\n",
    "    \"\"\"\n",
    "    dfRevenue = pd.DataFrame()\n",
    "\n",
    "    for i in range(0, data.shape[0]):\n",
    "        # create variables to calculate revenue\n",
    "        revenuePerWin = revenuePerWin\n",
    "        bidPrice = data.iloc[i,1]\n",
    "        eventForWin1 = data[data['win'] ==1].groupby(['bid_price'])['events'].sum()[bidPrice]\n",
    "        totalEvent = data.groupby(['bid_price'])['events'].sum()[bidPrice]\n",
    "\n",
    "        # calculate net revenue according to above values\n",
    "        # (eventForWin1 / totalEvent) this is the winRate same results in Problem1\n",
    "        revenue = (revenuePerWin - bidPrice) * (eventForWin1 / totalEvent) * totalEvent\n",
    "\n",
    "        temp = pd.DataFrame(\n",
    "            [{\n",
    "                'bidPrice': bidPrice,\n",
    "                'totalEvent': totalEvent,\n",
    "                'revenue': revenue\n",
    "            }]\n",
    "        )\n",
    "        # collect calculated variables in one dF\n",
    "        dfRevenue = (pd\n",
    "                     .concat([dfRevenue, temp])\n",
    "                     .drop_duplicates()\n",
    "                     .sort_values(by=['revenue'], ascending = False)\n",
    "                    )\n",
    "        dfRevenue.reset_index(drop=True, inplace=True)\n",
    "        \n",
    "    return dfRevenue"
   ]
  },
  {
   "cell_type": "code",
   "execution_count": 9,
   "id": "e0a52c08",
   "metadata": {},
   "outputs": [
    {
     "data": {
      "text/html": [
       "<div>\n",
       "<style scoped>\n",
       "    .dataframe tbody tr th:only-of-type {\n",
       "        vertical-align: middle;\n",
       "    }\n",
       "\n",
       "    .dataframe tbody tr th {\n",
       "        vertical-align: top;\n",
       "    }\n",
       "\n",
       "    .dataframe thead th {\n",
       "        text-align: right;\n",
       "    }\n",
       "</style>\n",
       "<table border=\"1\" class=\"dataframe\">\n",
       "  <thead>\n",
       "    <tr style=\"text-align: right;\">\n",
       "      <th></th>\n",
       "      <th>bidPrice</th>\n",
       "      <th>totalEvent</th>\n",
       "      <th>revenue</th>\n",
       "    </tr>\n",
       "  </thead>\n",
       "  <tbody>\n",
       "    <tr>\n",
       "      <th>0</th>\n",
       "      <td>0.20</td>\n",
       "      <td>10000000</td>\n",
       "      <td>600000.0</td>\n",
       "    </tr>\n",
       "    <tr>\n",
       "      <th>1</th>\n",
       "      <td>0.40</td>\n",
       "      <td>1000000</td>\n",
       "      <td>30000.0</td>\n",
       "    </tr>\n",
       "    <tr>\n",
       "      <th>2</th>\n",
       "      <td>0.10</td>\n",
       "      <td>10000</td>\n",
       "      <td>1200.0</td>\n",
       "    </tr>\n",
       "    <tr>\n",
       "      <th>3</th>\n",
       "      <td>0.01</td>\n",
       "      <td>100000</td>\n",
       "      <td>0.0</td>\n",
       "    </tr>\n",
       "    <tr>\n",
       "      <th>4</th>\n",
       "      <td>0.50</td>\n",
       "      <td>100000</td>\n",
       "      <td>0.0</td>\n",
       "    </tr>\n",
       "    <tr>\n",
       "      <th>5</th>\n",
       "      <td>9.00</td>\n",
       "      <td>1</td>\n",
       "      <td>-8.5</td>\n",
       "    </tr>\n",
       "    <tr>\n",
       "      <th>6</th>\n",
       "      <td>5.00</td>\n",
       "      <td>10</td>\n",
       "      <td>-36.0</td>\n",
       "    </tr>\n",
       "    <tr>\n",
       "      <th>7</th>\n",
       "      <td>2.00</td>\n",
       "      <td>100</td>\n",
       "      <td>-105.0</td>\n",
       "    </tr>\n",
       "    <tr>\n",
       "      <th>8</th>\n",
       "      <td>1.00</td>\n",
       "      <td>1000</td>\n",
       "      <td>-300.0</td>\n",
       "    </tr>\n",
       "    <tr>\n",
       "      <th>9</th>\n",
       "      <td>0.75</td>\n",
       "      <td>10000</td>\n",
       "      <td>-750.0</td>\n",
       "    </tr>\n",
       "  </tbody>\n",
       "</table>\n",
       "</div>"
      ],
      "text/plain": [
       "   bidPrice  totalEvent   revenue\n",
       "0      0.20    10000000  600000.0\n",
       "1      0.40     1000000   30000.0\n",
       "2      0.10       10000    1200.0\n",
       "3      0.01      100000       0.0\n",
       "4      0.50      100000       0.0\n",
       "5      9.00           1      -8.5\n",
       "6      5.00          10     -36.0\n",
       "7      2.00         100    -105.0\n",
       "8      1.00        1000    -300.0\n",
       "9      0.75       10000    -750.0"
      ]
     },
     "execution_count": 9,
     "metadata": {},
     "output_type": "execute_result"
    }
   ],
   "source": [
    "# run the calculateRevenue function to observe the max revenue for bidprice\n",
    "dfRevenue = calculateRevenue(data = df, revenuePerWin = 0.5)\n",
    "dfRevenue"
   ]
  },
  {
   "cell_type": "markdown",
   "id": "939ad3e3",
   "metadata": {},
   "source": [
    "The first row shows the max revenue with max event min bid_price. That will give us the optimum number for bid_price to earn max revenue\n",
    "\n",
    "So, the optimum number for bid_price is 0.20\n",
    "\n",
    "The revenue 600000.0"
   ]
  }
 ],
 "metadata": {
  "kernelspec": {
   "display_name": "analysis",
   "language": "python",
   "name": "analysis"
  },
  "language_info": {
   "codemirror_mode": {
    "name": "ipython",
    "version": 3
   },
   "file_extension": ".py",
   "mimetype": "text/x-python",
   "name": "python",
   "nbconvert_exporter": "python",
   "pygments_lexer": "ipython3",
   "version": "3.9.7"
  }
 },
 "nbformat": 4,
 "nbformat_minor": 5
}
